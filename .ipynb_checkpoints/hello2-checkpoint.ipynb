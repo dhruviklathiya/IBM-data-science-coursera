{
    "cells": [
        {
            "cell_type": "markdown",
            "metadata": {},
            "source": "# Final Project: Data Science Basics"
        },
        {
            "cell_type": "markdown",
            "metadata": {},
            "source": "## Introduction\nThis notebook demonstrates fundamental concepts in data science, including programming languages, libraries, and tools commonly used in the field."
        },
        {
            "cell_type": "markdown",
            "metadata": {},
            "source": "## Data Science Languages\n- Python\n- R\n- SQL\n- Julia\n- Scala"
        },
        {
            "cell_type": "markdown",
            "metadata": {},
            "source": "## Data Science Libraries\n- NumPy\n- Pandas\n- Matplotlib\n- Seaborn\n- TensorFlow"
        },
        {
            "cell_type": "markdown",
            "metadata": {},
            "source": "## Data Science Tools\n| Tool            | Description                        |\n|-----------------|------------------------------------|\n| Jupyter Notebook| Interactive development environment|\n| Git             | Version control                    |\n| Docker          | Containerization tool              |\n| Tableau         | Data visualization tool            |"
        },
        {
            "cell_type": "markdown",
            "metadata": {},
            "source": "## Arithmetic Expressions\nBelow are some examples of basic arithmetic operations."
        },
        {
            "cell_type": "code",
            "execution_count": 1,
            "metadata": {},
            "outputs": [
                {
                    "name": "stdout",
                    "output_type": "stream",
                    "text": "Multiplication: 15\nAddition: 8\n"
                }
            ],
            "source": "x = 5\n y = 3\n multiplication = x * y\n addition = x + y\n print('Multiplication:', multiplication)\n print('Addition:', addition)"
        },
        {
            "cell_type": "markdown",
            "metadata": {},
            "source": "## Convert Minutes to Hours\nThis code will convert minutes into hours."
        },
        {
            "cell_type": "code",
            "execution_count": 2,
            "metadata": {},
            "outputs": [
                {
                    "name": "stdout",
                    "output_type": "stream",
                    "text": "2.0\n"
                }
            ],
            "source": "minutes = 120\n hours = minutes / 60\n print(hours)"
        },
        {
            "cell_type": "markdown",
            "metadata": {},
            "source": "## Objectives\n- Understand basic data science languages and libraries\n- Learn how to perform arithmetic operations in Python\n- Learn how to use data science tools for real-world applications"
        },
        {
            "cell_type": "markdown",
            "metadata": {},
            "source": "## Author\nThis notebook was created by Dhruvik Lathiya."
        },
        {
            "cell_type": "markdown",
            "metadata": {},
            "source": "## GitHub Link\nYou can find the notebook on [GitHub](https://github.com/yourusername/yourproject)."
        },
        {
            "cell_type": "code",
            "execution_count": null,
            "metadata": {},
            "outputs": [],
            "source": ""
        }
    ],
    "metadata": {
        "kernelspec": {
            "display_name": "Python 3",
            "language": "python",
            "name": "python3"
        },
        "language_info": {
            "codemirror_mode": {
                "name": "ipython",
                "version": 3
            },
            "file_extension": ".py",
            "mimetype": "text/x-python",
            "name": "python",
            "nbconvert_exporter": "python",
            "pygments_lexer": "ipython3",
            "version": "3.6.8"
        }
    },
    "nbformat": 4,
    "nbformat_minor": 1
}
